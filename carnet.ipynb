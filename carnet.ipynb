{
 "cells": [
  {
   "cell_type": "markdown",
   "id": "59bd682a",
   "metadata": {},
   "source": [
    "# 🧠 Application Deep Learning - Classification de sentiments dans des textes"
   ]
  },
  {
   "cell_type": "markdown",
   "id": "1b6b846c",
   "metadata": {},
   "source": [
    "Ce projet consiste à développer une application de classification automatique de sentiments dans des textes en français et en anglais, à l’aide de techniques de traitement du langage naturel (NLP) et de machine learning.\n",
    "\n",
    "L’objectif est de permettre à un utilisateur de saisir son opinion, puis d’obtenir immédiatement une prédiction du sentiment (positif ou négatif) via une interface web interactive déployée avec Streamlit."
   ]
  },
  {
   "cell_type": "markdown",
   "id": "feffbd4b",
   "metadata": {},
   "source": [
    "## ✅ . Les étapes réalisées dans le projet"
   ]
  },
  {
   "cell_type": "markdown",
   "id": "92ff2fc3",
   "metadata": {},
   "source": [
    " 1.  Création manuelle d’un fichier sentiment_data.csv contenant des phrases annotées avec les labels \"positive\" ou \"negative\" pour entraîner le modèle.\n",
    "\n",
    " 2. Installation des bibliothèques nécessaires\n",
    "\n",
    " 3. Création du fichier train_model.py\n",
    "\n",
    " 4. Création du fichier app.py\n",
    "\n",
    " 5. Exécution de l'application\n",
    "\n",
    " 6. Déploiement de l'application\n",
    "\n",
    "\n",
    "\n",
    " \n"
   ]
  },
  {
   "cell_type": "markdown",
   "id": "499294f1",
   "metadata": {},
   "source": [
    " ## 1.  Création manuelle d’un fichier sentiment_data.csv contenant des phrases annotées avec les labels \"positive\" ou \"negative\" pour entraîner le modèle.\n"
   ]
  },
  {
   "cell_type": "markdown",
   "id": "fb376046",
   "metadata": {},
   "source": [
    "![Texte alternatif](capture1s.png)"
   ]
  },
  {
   "cell_type": "markdown",
   "id": "638dc194",
   "metadata": {},
   "source": [
    " ## 2. Installation des bibliothèques nécessaires"
   ]
  },
  {
   "cell_type": "markdown",
   "id": "da54d69c",
   "metadata": {},
   "source": [
    "![Texte alternatif](Capture2s.png)"
   ]
  },
  {
   "cell_type": "markdown",
   "id": "4ca39c29",
   "metadata": {},
   "source": [
    "## 3. Création du fichier train_model.py"
   ]
  },
  {
   "cell_type": "markdown",
   "id": "c2819be9",
   "metadata": {},
   "source": [
    "Ce script lit un fichier CSV contenant des textes et leurs sentiments (positif ou négatif), nettoie les textes, les transforme en vecteurs numériques grâce à la méthode TF-IDF, puis entraîne un modèle de machine learning LinearSVC pour prédire les sentiments. Enfin, il évalue les performances du modèle et sauvegarde à la fois le modèle entraîné et le vectoriseur pour une utilisation future dans l'application.\n",
    "\n",
    "  ✅ **Explication du script** :\n"
   ]
  },
  {
   "cell_type": "markdown",
   "id": "abfb993a",
   "metadata": {},
   "source": [
    "🔁 3.1 Importation des bibliothèques"
   ]
  },
  {
   "cell_type": "code",
   "execution_count": null,
   "id": "1c919b67",
   "metadata": {},
   "outputs": [],
   "source": [
    "import pandas as pd\n",
    "import joblib\n",
    "from sklearn.model_selection import train_test_split\n",
    "from sklearn.feature_extraction.text import TfidfVectorizer\n",
    "from sklearn.svm import LinearSVC\n",
    "from sklearn.metrics import classification_report\n"
   ]
  },
  {
   "cell_type": "markdown",
   "id": "4389d0a4",
   "metadata": {},
   "source": [
    "- pandas : pour manipuler les données\n",
    "\n",
    "- joblib : pour sauvegarder le modèle et le vectoriseur\n",
    "\n",
    "- train_test_split :  pour diviser les données en entraînement/test\n",
    "\n",
    "- TfidfVectorizer :  pour convertir le texte en vecteurs numériques\n",
    "\n",
    "- LinearSVC : comme modèle de classification\n",
    "\n",
    "- classification_report :  pour évaluer les performances\n"
   ]
  },
  {
   "cell_type": "markdown",
   "id": "32e92450",
   "metadata": {},
   "source": [
    "📂 3.2  Chargement du jeu de données"
   ]
  },
  {
   "cell_type": "code",
   "execution_count": null,
   "id": "a6519111",
   "metadata": {},
   "outputs": [],
   "source": [
    "df = pd.read_csv(r'C:\\Users\\USER\\Documents\\monprojetmaching\\sentiment_data.csv')\n"
   ]
  },
  {
   "cell_type": "markdown",
   "id": "1a4ac4df",
   "metadata": {},
   "source": [
    "Cette étape est pour lire  un fichier .csv contenant des textes et leurs étiquettes de sentiment (positive ou negative), avec deux colonnes : text et label."
   ]
  },
  {
   "cell_type": "markdown",
   "id": "7f76c8b7",
   "metadata": {},
   "source": [
    "🧹 3.3 Nettoyage des textes"
   ]
  },
  {
   "cell_type": "code",
   "execution_count": null,
   "id": "967651b8",
   "metadata": {},
   "outputs": [],
   "source": [
    "df['text'] = df['text'].str.lower().str.replace(r'[^\\w\\s]', '', regex=True)\n"
   ]
  },
  {
   "cell_type": "markdown",
   "id": "f74dfa94",
   "metadata": {},
   "source": [
    "- Tous les textes sont mis en minuscules (str.lower())\n",
    "\n",
    "- Suppression de la ponctuation à l’aide d’une expression régulière ([^\\w\\s])\n",
    "\n"
   ]
  },
  {
   "cell_type": "markdown",
   "id": "8186d9e4",
   "metadata": {},
   "source": [
    "🧮 3.4 Vectorisation TF-IDF"
   ]
  },
  {
   "cell_type": "code",
   "execution_count": null,
   "id": "b7d5e8f9",
   "metadata": {},
   "outputs": [],
   "source": [
    "vectorizer = TfidfVectorizer(max_features=5000, ngram_range=(1, 2))\n",
    "X = vectorizer.fit_transform(df['text'])\n",
    "y = df['label']\n"
   ]
  },
  {
   "cell_type": "markdown",
   "id": "e5f9d889",
   "metadata": {},
   "source": [
    "Création du TF-IDF Vectorizer :\n",
    "\n",
    "- max_features=5000 → ne garde que les 5000 termes les plus fréquents\n",
    "\n",
    "- ngram_range=(1, 2) → utilise des mots seuls (unigrammes) et des paires de mots (bigrammes)\n",
    "\n",
    "X : les textes transformés en vecteurs numériques\n",
    "\n",
    "y : les étiquettes (positive/negative)"
   ]
  },
  {
   "cell_type": "markdown",
   "id": "afd61fc9",
   "metadata": {},
   "source": [
    "🧪 3.5 Séparation du dataset"
   ]
  },
  {
   "cell_type": "code",
   "execution_count": null,
   "id": "0e45ee22",
   "metadata": {},
   "outputs": [],
   "source": [
    "X_train, X_test, y_train, y_test = train_test_split(X, y, test_size=0.3, random_state=42)\n"
   ]
  },
  {
   "cell_type": "markdown",
   "id": "cef3b79f",
   "metadata": {},
   "source": [
    "Sépare le jeu de données en :\n",
    "\n",
    "- 70 % pour l’entraînement\n",
    "\n",
    "- 30 % pour le test"
   ]
  },
  {
   "cell_type": "markdown",
   "id": "41ac053d",
   "metadata": {},
   "source": [
    "🤖 3.6 Entraînement du modèle SVM"
   ]
  },
  {
   "cell_type": "code",
   "execution_count": null,
   "id": "b2d05a7b",
   "metadata": {},
   "outputs": [],
   "source": [
    "model = LinearSVC()\n",
    "model.fit(X_train, y_train)\n"
   ]
  },
  {
   "cell_type": "markdown",
   "id": "a3661ffb",
   "metadata": {},
   "source": [
    "- Création d’un modèle SVM linéaire (Linear Support Vector Classifier)\n",
    "\n",
    "- Entraînement sur les données vectorisées\n",
    "\n"
   ]
  },
  {
   "cell_type": "markdown",
   "id": "fba65686",
   "metadata": {},
   "source": [
    "📊 3.7 Prédictions et évaluation"
   ]
  },
  {
   "cell_type": "code",
   "execution_count": null,
   "id": "60c83496",
   "metadata": {},
   "outputs": [],
   "source": [
    "y_pred = model.predict(X_test)\n",
    "print(classification_report(y_test, y_pred))\n"
   ]
  },
  {
   "cell_type": "markdown",
   "id": "ae6fdd25",
   "metadata": {},
   "source": [
    "- Le modèle prédit les sentiments des textes du jeu de test\n",
    "\n",
    "- classification_report affiche les métriques :\n",
    "\n",
    "  - precision : proportion de bonnes prédictions parmi les positives prédites\n",
    "\n",
    "  - recall : proportion de bonnes prédictions parmi les positives réelles\n",
    "\n",
    "  - f1-score : moyenne harmonique de precision et recall\n",
    "\n",
    "  - accuracy : pourcentage global de bonnes prédictions"
   ]
  },
  {
   "cell_type": "markdown",
   "id": "5dcca998",
   "metadata": {},
   "source": [
    "![Texte alternatif](captures.png)"
   ]
  },
  {
   "cell_type": "markdown",
   "id": "c3831846",
   "metadata": {},
   "source": [
    "💾 3.8 Sauvegarde du modèle et du vectoriseur\n",
    "\n"
   ]
  },
  {
   "cell_type": "code",
   "execution_count": null,
   "id": "a7d75016",
   "metadata": {},
   "outputs": [],
   "source": [
    "joblib.dump(model, r'C:\\Users\\USER\\Documents\\monprojetmaching\\model_svm.pkl')\n",
    "joblib.dump(vectorizer, r'C:\\Users\\USER\\Documents\\monprojetmaching\\vectorizer.pkl')\n"
   ]
  },
  {
   "cell_type": "markdown",
   "id": "e091fb1b",
   "metadata": {},
   "source": [
    "Sauvegarde du  :\n",
    "\n",
    " -  modèle entraîné dans model_svm.pkl\n",
    "\n",
    " - TF-IDF vectorizer dans vectorizer.pkl\n",
    "\n",
    " Pour les réutiliser ensuite dans  l'application Streamlit"
   ]
  },
  {
   "cell_type": "code",
   "execution_count": null,
   "id": "8fe36ca2",
   "metadata": {},
   "outputs": [],
   "source": [
    "import pandas as pd\n",
    "import joblib\n",
    "from sklearn.model_selection import train_test_split\n",
    "from sklearn.feature_extraction.text import TfidfVectorizer\n",
    "from sklearn.svm import LinearSVC\n",
    "from sklearn.metrics import classification_report\n",
    "\n",
    "# Charger les données\n",
    "df = pd.read_csv(r'C:\\Users\\USER\\Documents\\monprojetmaching\\sentiment_data.csv')  # Assure-toi d'avoir une colonne 'text' et 'label'\n",
    "\n",
    "# Nettoyage simple du texte\n",
    "df['text'] = df['text'].str.lower().str.replace(r'[^\\w\\s]', '', regex=True)\n",
    "\n",
    "# Vectorisation TF-IDF\n",
    "vectorizer = TfidfVectorizer(max_features=5000, ngram_range=(1, 2))\n",
    "X = vectorizer.fit_transform(df['text'])\n",
    "y = df['label']\n",
    "\n",
    "# Séparer les données\n",
    "X_train, X_test, y_train, y_test = train_test_split(X, y, test_size=0.3, random_state=42)\n",
    "\n",
    "# Entraîner le modèle SVM\n",
    "model = LinearSVC()\n",
    "model.fit(X_train, y_train)\n",
    "\n",
    "# Prédictions et évaluation\n",
    "y_pred = model.predict(X_test)\n",
    "print(classification_report(y_test, y_pred))\n",
    "\n",
    "# Sauvegarde du modèle et du vectoriseur\n",
    "joblib.dump(model, r'C:\\Users\\USER\\Documents\\monprojetmaching\\model_svm.pkl')\n",
    "joblib.dump(vectorizer, r'C:\\Users\\USER\\Documents\\monprojetmaching\\vectorizer.pkl')\n",
    "\n"
   ]
  },
  {
   "cell_type": "markdown",
   "id": "d7ab266c",
   "metadata": {},
   "source": [
    "##  4. Création du fichier app.py"
   ]
  },
  {
   "cell_type": "markdown",
   "id": "e0c2b29b",
   "metadata": {},
   "source": [
    "Ce script crée une interface web simple pour prédire si un texte est positif ou négatif, en utilisant le modèle SVM préalablement entraîné et le vectoriseur."
   ]
  },
  {
   "cell_type": "markdown",
   "id": "3a34a10a",
   "metadata": {},
   "source": [
    "**📜 Explication du code** :\n",
    "\n"
   ]
  },
  {
   "cell_type": "code",
   "execution_count": null,
   "id": "428c5761",
   "metadata": {},
   "outputs": [],
   "source": [
    "import streamlit as st\n",
    "import joblib\n"
   ]
  },
  {
   "cell_type": "markdown",
   "id": "ec44cd62",
   "metadata": {},
   "source": [
    "- streamlit est la bibliothèque utilisée pour créer l’interface web.\n",
    "\n",
    "- joblib permet de charger le modèle et le vectoriseur sauvegardés."
   ]
  },
  {
   "cell_type": "markdown",
   "id": "f7179693",
   "metadata": {},
   "source": [
    "📦 Charger le modèle et le vectoriseur"
   ]
  },
  {
   "cell_type": "code",
   "execution_count": null,
   "id": "d4a8cb0a",
   "metadata": {},
   "outputs": [],
   "source": [
    "model = joblib.load(\"model_svm.pkl\")\n",
    "vectorizer = joblib.load(\"vectorizer.pkl\")\n"
   ]
  },
  {
   "cell_type": "markdown",
   "id": "d74dfdaf",
   "metadata": {},
   "source": [
    "charge de modèle SVM et le TF-IDF vectorizer entraînés et sauvegardés dans des fichiers .pkl.\n",
    "\n"
   ]
  },
  {
   "cell_type": "markdown",
   "id": "e73ba56b",
   "metadata": {},
   "source": [
    "🧾 Configurer l’interface"
   ]
  },
  {
   "cell_type": "code",
   "execution_count": null,
   "id": "78695613",
   "metadata": {},
   "outputs": [],
   "source": [
    "st.set_page_config(page_title=\"Prédiction d'Opinion\", layout=\"centered\")\n",
    "st.title(\"🧠 Prédiction d'Opinion (SVM)\")\n"
   ]
  },
  {
   "cell_type": "markdown",
   "id": "02b8f6ef",
   "metadata": {},
   "source": [
    "- set_page_config : définit le titre de l’onglet du navigateur et le layout.\n",
    "\n",
    "- title : affiche un titre principal dans l’application.\n",
    "\n"
   ]
  },
  {
   "cell_type": "markdown",
   "id": "7ed5a294",
   "metadata": {},
   "source": [
    "📘 Texte d’introduction"
   ]
  },
  {
   "cell_type": "code",
   "execution_count": null,
   "id": "d0d57c8f",
   "metadata": {},
   "outputs": [],
   "source": [
    "st.write(\"Entrez un texte pour prédire s’il est positif ou négatif.\")\n"
   ]
  },
  {
   "cell_type": "markdown",
   "id": "742d0c07",
   "metadata": {},
   "source": [
    "Affiche un message expliquant à l’utilisateur ce qu’il doit faire.\n",
    "\n"
   ]
  },
  {
   "cell_type": "markdown",
   "id": "84fd641d",
   "metadata": {},
   "source": [
    "🖋️ Zone de texte pour saisie"
   ]
  },
  {
   "cell_type": "code",
   "execution_count": null,
   "id": "b5c951ff",
   "metadata": {},
   "outputs": [],
   "source": [
    "user_input = st.text_area(\"Votre texte ici :\", \"\")\n"
   ]
  },
  {
   "cell_type": "markdown",
   "id": "b203b079",
   "metadata": {},
   "source": [
    "Crée une zone de texte où l’utilisateur peut saisir une opinion ou un commentaire."
   ]
  },
  {
   "cell_type": "markdown",
   "id": "8df0e188",
   "metadata": {},
   "source": [
    "🔘 Bouton de prédiction"
   ]
  },
  {
   "cell_type": "code",
   "execution_count": null,
   "id": "a9dfb6a3",
   "metadata": {},
   "outputs": [],
   "source": [
    "if st.button(\"Prédire\"):\n"
   ]
  },
  {
   "cell_type": "markdown",
   "id": "7783e7ff",
   "metadata": {},
   "source": [
    "Crée un bouton. Quand l’utilisateur clique, le code à l’intérieur s’exécute."
   ]
  },
  {
   "cell_type": "markdown",
   "id": "a803bda9",
   "metadata": {},
   "source": [
    "🧪 Validation de l’entrée"
   ]
  },
  {
   "cell_type": "code",
   "execution_count": null,
   "id": "a7483438",
   "metadata": {},
   "outputs": [],
   "source": [
    "    if user_input.strip() == \"\":\n",
    "        st.warning(\"Veuillez entrer un texte.\")\n"
   ]
  },
  {
   "cell_type": "markdown",
   "id": "6000f7a6",
   "metadata": {},
   "source": [
    "Si l’utilisateur clique sur \"Prédire\" sans entrer de texte, affiche un message d’avertissement.\n",
    "\n"
   ]
  },
  {
   "cell_type": "markdown",
   "id": "fe9f9a62",
   "metadata": {},
   "source": [
    "🤖 Prédiction\n",
    "\n"
   ]
  },
  {
   "cell_type": "code",
   "execution_count": null,
   "id": "40daed78",
   "metadata": {},
   "outputs": [],
   "source": [
    "    else:\n",
    "        vect_text = vectorizer.transform([user_input])\n",
    "        prediction = model.predict(vect_text)\n",
    "        st.success(f\"✅ Opinion prédite : **{prediction[0]}**\")\n"
   ]
  },
  {
   "cell_type": "markdown",
   "id": "bc155a14",
   "metadata": {},
   "source": [
    "- vectorizer.transform([user_input]) : transforme le texte entré en vecteur TF-IDF .\n",
    "\n",
    "- model.predict(...) : fait une prédiction avec le modèle chargé.\n",
    "\n",
    "- st.success(...) : affiche le résultat dans un encadré vert avec le sentiment prédit : positive ou negative.\n",
    "\n"
   ]
  },
  {
   "cell_type": "code",
   "execution_count": null,
   "id": "3e750d0c",
   "metadata": {},
   "outputs": [],
   "source": [
    "\n",
    "import streamlit as st\n",
    "import joblib\n",
    "\n",
    "# Charger le modèle et le vectoriseur\n",
    "model = joblib.load(\"model_svm.pkl\")\n",
    "vectorizer = joblib.load(\"vectorizer.pkl\")\n",
    "\n",
    "st.set_page_config(page_title=\"Prédiction d'Opinion\", layout=\"centered\")\n",
    "st.title(\"🧠 Prédiction d'Opinion (SVM)\")\n",
    "\n",
    "st.write(\"Entrez un texte pour prédire s’il est positif ou négatif.\")\n",
    "\n",
    "# Entrée utilisateur\n",
    "user_input = st.text_area(\"Votre texte ici :\", \"\")\n",
    "\n",
    "# Bouton prédiction\n",
    "if st.button(\"Prédire\"):\n",
    "    if user_input.strip() == \"\":\n",
    "        st.warning(\"Veuillez entrer un texte.\")\n",
    "    else:\n",
    "        vect_text = vectorizer.transform([user_input])\n",
    "        prediction = model.predict(vect_text)\n",
    "        st.success(f\"✅ Opinion prédite : **{prediction[0]}**\")\n"
   ]
  },
  {
   "cell_type": "markdown",
   "id": "b1ff5c2c",
   "metadata": {},
   "source": [
    "## 5. Exécution de l'application"
   ]
  },
  {
   "cell_type": "markdown",
   "id": "7f791b0d",
   "metadata": {},
   "source": [
    "L’application est exécutée localement à l’aide de la commande suivante dans le terminal :"
   ]
  },
  {
   "cell_type": "code",
   "execution_count": null,
   "id": "6052c5c5",
   "metadata": {},
   "outputs": [],
   "source": [
    " streamlit run \"C:\\Users\\USER\\Documents\\monprojetmaching\\app.py\"\n"
   ]
  },
  {
   "cell_type": "markdown",
   "id": "b5836657",
   "metadata": {},
   "source": [
    "Cette commande lance l’application Streamlit en local. Elle s’ouvre automatiquement dans le navigateur via une URL.Pour rendre l’application accessible à tout le monde via un lien public, un hébergement sur Streamlit Cloud est nécessaire.\n",
    "\n"
   ]
  },
  {
   "cell_type": "markdown",
   "id": "c9c928a2",
   "metadata": {},
   "source": [
    "##  6. Déploiement de l'application"
   ]
  },
  {
   "cell_type": "markdown",
   "id": "cd94d3d1",
   "metadata": {},
   "source": [
    "Après l’hébergement de l’application sur Streamlit Cloud, j’ai obtenu une URL publique permettant à tout utilisateur d’y accéder facilement en ligne : https://sentiment-app-uyupimyppbjn43evu5xha9.streamlit.app/   \n",
    "**Voici un aperçu du résultat de l’application en ligne :**"
   ]
  },
  {
   "cell_type": "markdown",
   "id": "c2ebf3fb",
   "metadata": {},
   "source": [
    "![Texte alternatif](Capture3s.PNG)"
   ]
  },
  {
   "cell_type": "markdown",
   "id": "cdf84095",
   "metadata": {},
   "source": [
    "![Texte alternatif](Capture4s.PNG)"
   ]
  },
  {
   "cell_type": "markdown",
   "id": "cb05d257",
   "metadata": {},
   "source": [
    "![Texte alternatif](Capture5s.PNG)"
   ]
  },
  {
   "cell_type": "markdown",
   "id": "f977fe38",
   "metadata": {},
   "source": [
    "![Texte alternatif](Capture6s.PNG)"
   ]
  }
 ],
 "metadata": {
  "language_info": {
   "name": "python"
  }
 },
 "nbformat": 4,
 "nbformat_minor": 5
}
